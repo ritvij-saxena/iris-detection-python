{
 "cells": [
  {
   "cell_type": "code",
   "execution_count": 120,
   "metadata": {},
   "outputs": [],
   "source": [
    "from zipfile import ZipFile\n",
    "# import scikit-iag\n",
    "import numpy as np\n",
    "import matplotlib.pyplot as plt\n",
    "import glob \n",
    "from skimage import io\n",
    "from skimage import data, color\n",
    "from skimage.transform import hough_circle, hough_circle_peaks\n",
    "from skimage.feature import canny\n",
    "from skimage.draw import circle_perimeter\n",
    "from skimage.util import img_as_ubyte\n",
    "import cv2\n",
    "import pandas as pd\n",
    "\n",
    "# images contains image folder name and image contents \n",
    "# description contains folder text file name and data frame which has its contents\n",
    "#\n",
    "\n",
    "## image acquistion [x]\n",
    "# iris localisation edge detection\n",
    "# normalize hough transform, daugman's rubber sheet etc\n",
    "# unwrapping\n",
    "# encoding (gabor filter)\n",
    "# matching hamming distance\n",
    "\n",
    "def data_prep(filename):\n",
    "    data = {'images':dict(),'description':dict()}\n",
    "    zf = ZipFile(filename)\n",
    "    split_value = []\n",
    "    for i in range(len(zf.namelist())):\n",
    "        current = zf.namelist()[i]\n",
    "        imagelist = []\n",
    "        if(\".tiff\" in current):\n",
    "            split_value = current.split('/')\n",
    "            if split_value[1] not in data['images'].keys():\n",
    "                data['images'].update({split_value[1]:[]})\n",
    "            data['images'][split_value[1]].append(current)\n",
    "        elif(\".txt\" in current):\n",
    "            split_value = current.split('/')\n",
    "            if split_value[1] not in data['description']:\n",
    "                data['description'].update({split_value[1]:list(pd.DataFrame())})\n",
    "            file = zf.open(current)\n",
    "            df = pd.read_csv(file, sep=\"\\t\", header=None,names=['attributes','type','value'])\n",
    "            for k in range(0,len(df),55):\n",
    "                data['description'][split_value[1]].append(df[k:k+55])\n",
    "    zf.close()\n",
    "    return data"
   ]
  },
  {
   "cell_type": "code",
   "execution_count": 127,
   "metadata": {
    "scrolled": false
   },
   "outputs": [
    {
     "name": "stdout",
     "output_type": "stream",
     "text": [
      "dict_keys(['02463', '04233', '04252', '04261', '04267', '04327', '04385', '04394', '04397', '04470', '04537', '04629', '04815', '04851', '04888', '04917', '05015', '05028', '05033', '05044', '05136', '05156', '05176', '05186', '05191', '05204', '05213', '05232', '05244', '05248', '05256', '05271', '05284', '05288', '05289', '05290', '05292', '05298', '05300', '05301', '05303', '05304', '05305', '05306', '05308', '05310', '05314', '05317', '05320', '05321', '05324', '05337', '05341', '05344', '05355', '05366', '05368', '05379', '05386', '05392', '05399', '05401', '05405', '05406', '05407', '05408', '05409', '05412', '05415', '05430', '05441', '05442', '05444', '05445', '05447', '05448', '05450', '05454', '05455', '05456', '05457', '05459', '05460', '05461', '05462', '05463', '05465', '05466'])\n",
      "\n",
      " dict_keys(['02463', '04233', '04252', '04261', '04267', '04327', '04385', '04394', '04397', '04470', '04537', '04629', '04815', '04851', '04888', '04917', '05015', '05028', '05033', '05044', '05136', '05156', '05176', '05186', '05191', '05204', '05213', '05232', '05244', '05248', '05256', '05271', '05284', '05288', '05289', '05290', '05292', '05298', '05300', '05301', '05303', '05304', '05305', '05306', '05308', '05310', '05314', '05317', '05320', '05321', '05324', '05337', '05341', '05344', '05355', '05366', '05368', '05379', '05386', '05392', '05399', '05401', '05405', '05406', '05407', '05408', '05409', '05412', '05415', '05430', '05441', '05442', '05444', '05445', '05447', '05448', '05450', '05454', '05455', '05456', '05457', '05459', '05460', '05461', '05462', '05463', '05465', '05466'])\n",
      "\n",
      " 2008-03-11_13/02463/02463d1914.tiff\n"
     ]
    }
   ],
   "source": [
    "gallery = data_prep('dataset\\Zip Dataset\\LG2200-2008-03-11_13.zip')\n",
    "probe_1 = data_prep('dataset\\Zip Dataset\\LG2200-2010-04-27_29.zip')\n",
    "probe_2 = data_prep('dataset\\Zip Dataset\\LG4000-2010-04-27_29.zip')\n",
    "print(gallery['images'].keys())\n",
    "print('\\n',gallery['description'].keys())\n",
    "\n",
    "print('\\n',gallery['images']['02463'][0])"
   ]
  },
  {
   "cell_type": "code",
   "execution_count": 134,
   "metadata": {},
   "outputs": [
    {
     "data": {
      "text/plain": [
       "'/afs/crc.nd.edu/user/a/asgroi/challenge/LG2200/2008-03-11/02463/02463d1914.tiff'"
      ]
     },
     "execution_count": 134,
     "metadata": {},
     "output_type": "execute_result"
    }
   ],
   "source": [
    "gallery['description']['02463'][0].loc[54].value"
   ]
  },
  {
   "cell_type": "code",
   "execution_count": null,
   "metadata": {},
   "outputs": [],
   "source": []
  }
 ],
 "metadata": {
  "kernelspec": {
   "display_name": "Python 3",
   "language": "python",
   "name": "python3"
  },
  "language_info": {
   "codemirror_mode": {
    "name": "ipython",
    "version": 3
   },
   "file_extension": ".py",
   "mimetype": "text/x-python",
   "name": "python",
   "nbconvert_exporter": "python",
   "pygments_lexer": "ipython3",
   "version": "3.7.3"
  }
 },
 "nbformat": 4,
 "nbformat_minor": 2
}
